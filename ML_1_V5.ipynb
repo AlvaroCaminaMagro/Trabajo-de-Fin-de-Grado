{
  "cells": [
    {
      "cell_type": "code",
      "execution_count": 1,
      "metadata": {
        "id": "MI04jQkj3Q4g"
      },
      "outputs": [],
      "source": [
        "# libraries\n",
        "import numpy as np\n",
        "import matplotlib.pyplot as plt\n",
        "import pandas as pd\n",
        "from sklearn.model_selection import train_test_split\n",
        "from sklearn.metrics import plot_confusion_matrix\n",
        "from sklearn.metrics import confusion_matrix\n",
        "from sklearn.metrics import accuracy_score\n",
        "import os\n",
        "import pathlib\n",
        "\n",
        "import scipy.stats as ss\n",
        "import sklearn\n",
        "from sklearn.model_selection import train_test_split, cross_val_score\n",
        "from sklearn.linear_model import LogisticRegression\n",
        "from sklearn.ensemble import RandomForestClassifier\n",
        "from sklearn.svm import SVC\n",
        "from sklearn import linear_model\n",
        "from sklearn import model_selection\n",
        "from sklearn.metrics import classification_report\n",
        "from sklearn.metrics import precision_score\n",
        "from sklearn.neighbors import KNeighborsClassifier\n",
        "from sklearn.model_selection import learning_curve, GridSearchCV\n",
        "from sklearn.pipeline import Pipeline\n",
        "from sklearn import preprocessing\n",
        "from sklearn import tree\n",
        "from sklearn.naive_bayes import GaussianNB\n",
        "#from mlxtend.plotting import plot_learning_curves\n",
        "from sklearn.tree import export_graphviz\n",
        "from six import StringIO\n",
        "from IPython.display import Image  \n",
        "from sklearn.model_selection import validation_curve\n",
        "from sklearn.model_selection import KFold\n",
        "from sklearn.metrics import precision_recall_curve\n",
        "from sklearn.metrics import plot_precision_recall_curve\n",
        "from sklearn.metrics import max_error, mean_squared_error"
      ]
    },
    {
      "cell_type": "code",
      "source": [
        "from google.colab import drive\n",
        "drive.mount('/content/drive')"
      ],
      "metadata": {
        "colab": {
          "base_uri": "https://localhost:8080/"
        },
        "id": "nWzA36of3VqS",
        "outputId": "b293bb2c-fb27-412e-c438-82807def8e7b"
      },
      "execution_count": 2,
      "outputs": [
        {
          "output_type": "stream",
          "name": "stdout",
          "text": [
            "Mounted at /content/drive\n"
          ]
        }
      ]
    },
    {
      "cell_type": "code",
      "execution_count": 3,
      "metadata": {
        "id": "jxnE7A0N3Q4i"
      },
      "outputs": [],
      "source": [
        "df = pd.read_csv(\"/content/drive/MyDrive/Colab Notebooks/cleaned-sorted-torino.csv\")   "
      ]
    },
    {
      "cell_type": "code",
      "execution_count": null,
      "metadata": {
        "id": "hwLXsNly3Q4k"
      },
      "outputs": [],
      "source": [
        "df.head()"
      ]
    },
    {
      "cell_type": "code",
      "execution_count": 10,
      "metadata": {
        "id": "i_le-GYs3Q4m"
      },
      "outputs": [],
      "source": [
        "df1 = df[['lcd1','Road_LCD','offset','lat','lng','accuracy','flow','speed']]\n",
        "df1 = df1[0:249883]"
      ]
    },
    {
      "cell_type": "code",
      "execution_count": 8,
      "metadata": {
        "colab": {
          "base_uri": "https://localhost:8080/"
        },
        "id": "usRJuFRW3Q4o",
        "outputId": "a9c9b8d5-d36e-4f14-95e6-ef69cedeba0f"
      },
      "outputs": [
        {
          "output_type": "execute_result",
          "data": {
            "text/plain": [
              "(249883, 9)"
            ]
          },
          "metadata": {},
          "execution_count": 8
        }
      ],
      "source": [
        "df1.shape"
      ]
    },
    {
      "cell_type": "markdown",
      "metadata": {
        "id": "ET4C-CyC3Q4t"
      },
      "source": [
        "### Output"
      ]
    },
    {
      "cell_type": "code",
      "execution_count": 12,
      "metadata": {
        "colab": {
          "base_uri": "https://localhost:8080/",
          "height": 315
        },
        "id": "3irdhmQL3Q4u",
        "outputId": "2014e244-76fe-44f0-9829-b14fcab8c9db"
      },
      "outputs": [
        {
          "output_type": "execute_result",
          "data": {
            "text/plain": [
              "array([[<matplotlib.axes._subplots.AxesSubplot object at 0x7f0eb34ad290>]],\n",
              "      dtype=object)"
            ]
          },
          "metadata": {},
          "execution_count": 12
        },
        {
          "output_type": "display_data",
          "data": {
            "text/plain": [
              "<Figure size 432x288 with 1 Axes>"
            ],
            "image/png": "[encoded data removed]"
          },
          "metadata": {
            "needs_background": "light"
          }
        }
      ],
      "source": [
        "df1.hist('speed')"
      ]
    },
    {
      "cell_type": "markdown",
      "metadata": {
        "id": "e_PCUayV3Q4v"
      },
      "source": [
        "## Training & Test"
      ]
    },
    {
      "cell_type": "code",
      "execution_count": 13,
      "metadata": {
        "id": "lELair0F3Q4v"
      },
      "outputs": [],
      "source": [
        "X = df1.drop(['speed'], axis=1)\n",
        "Y = df1['speed']"
      ]
    },
    {
      "cell_type": "code",
      "execution_count": 14,
      "metadata": {
        "id": "pdvNvgWr3Q4v"
      },
      "outputs": [],
      "source": [
        "X_train, X_test, Y_train, Y_test = train_test_split(X, Y, test_size = 0.2, random_state=2)"
      ]
    },
    {
      "cell_type": "code",
      "execution_count": 15,
      "metadata": {
        "colab": {
          "base_uri": "https://localhost:8080/"
        },
        "id": "TCwZFej_3Q4w",
        "outputId": "e5aa1616-baa6-48b7-a111-9f583bf7dede"
      },
      "outputs": [
        {
          "output_type": "stream",
          "name": "stdout",
          "text": [
            "(199906, 7)\n",
            "(49977, 7)\n",
            "(199906,)\n",
            "(49977,)\n"
          ]
        }
      ],
      "source": [
        "print(X_train.shape)\n",
        "print(X_test.shape)\n",
        "print(Y_train.shape)\n",
        "print(Y_test.shape)"
      ]
    },
    {
      "cell_type": "markdown",
      "metadata": {
        "id": "j5orqu4q3Q4w"
      },
      "source": [
        "## KNN"
      ]
    },
    {
      "cell_type": "code",
      "execution_count": 22,
      "metadata": {
        "id": "9NLLhQDV3Q4w"
      },
      "outputs": [],
      "source": [
        "from sklearn.model_selection import train_test_split, GridSearchCV\n",
        "from sklearn.neighbors import KNeighborsRegressor\n",
        "from sklearn.metrics import mean_absolute_error, mean_squared_error  # Figura de mérito "
      ]
    },
    {
      "cell_type": "code",
      "execution_count": 23,
      "metadata": {
        "colab": {
          "base_uri": "https://localhost:8080/",
          "height": 317
        },
        "id": "W0nWfMwK3Q4x",
        "outputId": "d08c455f-6737-4389-ac77-89d268fece74"
      },
      "outputs": [
        {
          "output_type": "display_data",
          "data": {
            "text/plain": [
              "<Figure size 432x288 with 1 Axes>"
            ],
            "image/png": "[encoded data removed]"
          },
          "metadata": {
            "needs_background": "light"
          }
        },
        {
          "output_type": "stream",
          "name": "stdout",
          "text": [
            "Menor MSE en validación: 9.051\n",
            "Mejor valor del hiperparámetro: {'n_neighbors': 5}\n"
          ]
        }
      ],
      "source": [
        "# Selección del hiper-parámetro haciendo uso del conjunto de diseño. El criterio de elección es mínimo MSE\n",
        "\n",
        "param_grid = {'n_neighbors': range(1,25)}\n",
        "k_grid = np.array(range(1,25))\n",
        "grid_knn = GridSearchCV(KNeighborsRegressor(), param_grid = param_grid, scoring = 'neg_mean_squared_error', cv=3,return_train_score=True)\n",
        "grid_knn.fit(X_train,Y_train)\n",
        "\n",
        "mse_train = -1*np.array(grid_knn.cv_results_['mean_train_score'])\n",
        "mse_val = -1*np.array(grid_knn.cv_results_['mean_test_score'])\n",
        "\n",
        "\n",
        "plt.plot(k_grid,mse_train,'-o',label=\"train\", linewidth=2)\n",
        "plt.plot(k_grid,mse_val,'-*b',label=\"val\", linewidth=2)\n",
        "plt.xlabel('k',fontsize=14)\n",
        "plt.ylabel('MSE',fontsize=14)\n",
        "plt.legend()\n",
        "plt.show()\n",
        "\n",
        "print(\"Menor MSE en validación: {:.3f}\".format(-grid_knn.best_score_))\n",
        "print(\"Mejor valor del hiperparámetro: {}\".format(grid_knn.best_params_))\n"
      ]
    },
    {
      "cell_type": "code",
      "source": [
        "print(grid_knn)"
      ],
      "metadata": {
        "colab": {
          "base_uri": "https://localhost:8080/"
        },
        "id": "qlcfzbDP4zUL",
        "outputId": "42e4782c-684e-4315-9c28-5a5ce8957273"
      },
      "execution_count": 34,
      "outputs": [
        {
          "output_type": "stream",
          "name": "stdout",
          "text": [
            "GridSearchCV(cv=3, estimator=KNeighborsRegressor(),\n",
            "             param_grid={'n_neighbors': range(1, 25)}, return_train_score=True,\n",
            "             scoring='neg_mean_squared_error')\n"
          ]
        }
      ]
    },
    {
      "cell_type": "code",
      "execution_count": 26,
      "metadata": {
        "colab": {
          "base_uri": "https://localhost:8080/"
        },
        "id": "5NE_HkvC3Q4x",
        "outputId": "39ba650d-c43f-4443-d457-d479f0af8a00"
      },
      "outputs": [
        {
          "output_type": "stream",
          "name": "stdout",
          "text": [
            "Error absoluto medio Knn: 0.7096273485803472\n",
            "Error cuadrático medio Knn: 7.29937149208636\n",
            "Raíz del error cuadrático medio Knn: 2.7017349041100163\n",
            "Error máximo Knn: 52.2\n",
            "0.9743760028641457\n"
          ]
        }
      ],
      "source": [
        "# Con el valor de k seleccionado, construimos el modelo con el conjunto de diseño y evaluamos las prestaciones en test\n",
        "n_neighbors = 5\n",
        "modelo_knn_regres = KNeighborsRegressor(n_neighbors) \n",
        "y_test_estimada = modelo_knn_regres.fit(X_train, Y_train).predict(X_test) # Entrenamos y evaluamos en test\n",
        "\n",
        "from sklearn.metrics import r2_score\n",
        "\n",
        "MAE_test_knn = mean_absolute_error(Y_test, y_test_estimada)\n",
        "MSE_test_knn = mean_squared_error(Y_test, y_test_estimada)\n",
        "r_2_score=r2_score(Y_test,y_test_estimada)\n",
        "RMSE_test_knn = np.sqrt(mean_squared_error(Y_test, y_test_estimada))\n",
        "MAX_test_knn = max_error(Y_test, y_test_estimada)\n",
        "\n",
        "\n",
        "print('Error absoluto medio Knn:',MAE_test_knn)\n",
        "print('Error cuadrático medio Knn:',MSE_test_knn)\n",
        "print('Raíz del error cuadrático medio Knn:',RMSE_test_knn)\n",
        "print('Error máximo Knn:',MAX_test_knn)\n",
        "print(r_2_score)"
      ]
    },
    {
      "cell_type": "markdown",
      "metadata": {
        "id": "Utjh3aBO3Q4y"
      },
      "source": [
        "## Regresion Tree"
      ]
    },
    {
      "cell_type": "code",
      "execution_count": 27,
      "metadata": {
        "id": "rGq3rpbQ3Q4y"
      },
      "outputs": [],
      "source": [
        "from sklearn.preprocessing import StandardScaler"
      ]
    },
    {
      "cell_type": "code",
      "execution_count": 28,
      "metadata": {
        "colab": {
          "base_uri": "https://localhost:8080/",
          "height": 317
        },
        "id": "WyX37Ymz3Q4y",
        "outputId": "daa75d6b-1f32-422e-d0d5-3473cbca9d42"
      },
      "outputs": [
        {
          "output_type": "display_data",
          "data": {
            "text/plain": [
              "<Figure size 432x288 with 1 Axes>"
            ],
            "image/png": "[encoded data removed]"
          },
          "metadata": {
            "needs_background": "light"
          }
        },
        {
          "output_type": "stream",
          "name": "stdout",
          "text": [
            "Menor MSE en validación cruzada: 43.999\n",
            "Mejor valor del hiperparámetro: {'max_depth': 5}\n"
          ]
        }
      ],
      "source": [
        "from sklearn.tree import DecisionTreeRegressor\n",
        "scaler = StandardScaler()\n",
        "scaler.fit(X_train)\n",
        "X_train_norm = scaler.transform(X_train)\n",
        "X_test_norm = scaler.transform(X_test)\n",
        "# Selección de hiper-parámetros del árbol. En principio, consideraremos sólo la profundidad máxima\n",
        "param_grid = {'max_depth': range(1,6)}\n",
        "profundidad_grid = np.array(range(1,6))\n",
        "\n",
        "grid_arbol = GridSearchCV(DecisionTreeRegressor(random_state=0), param_grid = param_grid, scoring = 'neg_mean_squared_error', cv=3,return_train_score=True)\n",
        "grid_arbol.fit(X_train_norm, Y_train)\n",
        "\n",
        "mse_train_arbol = -1*np.array(grid_arbol.cv_results_['mean_train_score'])\n",
        "mse_val_arbol = -1*np.array(grid_arbol.cv_results_['mean_test_score'])\n",
        "\n",
        "plt.plot(profundidad_grid,mse_train_arbol,'-o',label=\"train\", linewidth=2)\n",
        "plt.plot(profundidad_grid,mse_val_arbol,'-*b',label=\"val\", linewidth=2)\n",
        "plt.xlabel('Profundidad',fontsize=14)\n",
        "plt.ylabel('MSE',fontsize=14)\n",
        "plt.legend()\n",
        "plt.show()\n",
        "\n",
        "print(\"Menor MSE en validación cruzada: {:.3f}\".format(-grid_arbol.best_score_))\n",
        "print(\"Mejor valor del hiperparámetro: {}\".format(grid_arbol.best_params_))\n",
        "\n",
        "\n",
        "\n",
        "\n",
        "\n",
        "\n"
      ]
    },
    {
      "cell_type": "code",
      "execution_count": 29,
      "metadata": {
        "colab": {
          "base_uri": "https://localhost:8080/"
        },
        "id": "nHE-PNiN3Q4z",
        "outputId": "11ee6dc6-bc0c-45be-846f-17b0d64ff09b"
      },
      "outputs": [
        {
          "output_type": "stream",
          "name": "stdout",
          "text": [
            "Error máximo Árbol: 57.45422527015767\n",
            "Raíz del error cuadrático medio Árbol: 6.548029945280227\n",
            "Error absoluto medio Árbol: 4.286888559515342\n",
            "Error cuadrático medio Árbol: 42.87669616428658\n"
          ]
        }
      ],
      "source": [
        "# Con el valor de máxima profundidad seleccionado, construimos el modelo con el conjunto de diseño y evaluamos las prestaciones en test\n",
        "from sklearn.tree import export_graphviz\n",
        "\n",
        "# Construyo el modelo con los ejemplos de train \n",
        "param_max_depth=5\n",
        "Regresor_Arbol = DecisionTreeRegressor(max_depth=param_max_depth)\n",
        "\n",
        "\n",
        "\n",
        "y_test_estimada_Tree =Regresor_Arbol.fit(X_train_norm, Y_train).predict(X_test_norm)\n",
        "MAX_test_Tree_2D = max_error(Y_test, y_test_estimada_Tree)\n",
        "RMSE_test_Tree_2D = np.sqrt(mean_squared_error(Y_test, y_test_estimada_Tree))\n",
        "MSE_test_Tree_2D = mean_squared_error(Y_test, y_test_estimada_Tree)\n",
        "MAE_test_Tree_2D = mean_absolute_error(Y_test, y_test_estimada_Tree)\n",
        "\n",
        "print('Error máximo Árbol:', MAX_test_Tree_2D)\n",
        "print('Raíz del error cuadrático medio Árbol:', RMSE_test_Tree_2D)\n",
        "print('Error absoluto medio Árbol:', MAE_test_Tree_2D)\n",
        "print('Error cuadrático medio Árbol:', MSE_test_Tree_2D)"
      ]
    },
    {
      "cell_type": "code",
      "execution_count": 67,
      "metadata": {
        "colab": {
          "base_uri": "https://localhost:8080/",
          "height": 17
        },
        "id": "P2hIIcAl3Q4z",
        "outputId": "61b9ead3-7f26-45ef-a5b3-f18855ea8074"
      },
      "outputs": [
        {
          "output_type": "display_data",
          "data": {
            "text/plain": [
              "<IPython.core.display.Javascript object>"
            ],
            "application/javascript": [
              "\n",
              "    async function download(id, filename, size) {\n",
              "      if (!google.colab.kernel.accessAllowed) {\n",
              "        return;\n",
              "      }\n",
              "      const div = document.createElement('div');\n",
              "      const label = document.createElement('label');\n",
              "      label.textContent = `Downloading \"${filename}\": `;\n",
              "      div.appendChild(label);\n",
              "      const progress = document.createElement('progress');\n",
              "      progress.max = size;\n",
              "      div.appendChild(progress);\n",
              "      document.body.appendChild(div);\n",
              "\n",
              "      const buffers = [];\n",
              "      let downloaded = 0;\n",
              "\n",
              "      const channel = await google.colab.kernel.comms.open(id);\n",
              "      // Send a message to notify the kernel that we're ready.\n",
              "      channel.send({})\n",
              "\n",
              "      for await (const message of channel.messages) {\n",
              "        // Send a message to notify the kernel that we're ready.\n",
              "        channel.send({})\n",
              "        if (message.buffers) {\n",
              "          for (const buffer of message.buffers) {\n",
              "            buffers.push(buffer);\n",
              "            downloaded += buffer.byteLength;\n",
              "            progress.value = downloaded;\n",
              "          }\n",
              "        }\n",
              "      }\n",
              "      const blob = new Blob(buffers, {type: 'application/binary'});\n",
              "      const a = document.createElement('a');\n",
              "      a.href = window.URL.createObjectURL(blob);\n",
              "      a.download = filename;\n",
              "      div.appendChild(a);\n",
              "      a.click();\n",
              "      div.remove();\n",
              "    }\n",
              "  "
            ]
          },
          "metadata": {}
        },
        {
          "output_type": "display_data",
          "data": {
            "text/plain": [
              "<IPython.core.display.Javascript object>"
            ],
            "application/javascript": [
              "download(\"download_30805d97-a187-4f17-8de0-5e6ed51dbab1\", \"Tree_All_features.png\", 173802)"
            ]
          },
          "metadata": {}
        }
      ],
      "source": [
        "from pydotplus import graph_from_dot_data\n",
        "\n",
        "# Represento visualmente el árbol\n",
        "Nombres_Caract_In = ['lcd1','Road_LCD','offset','lat','lng','accuracy','flow']\n",
        "\n",
        "dot_data_1 = export_graphviz(Regresor_Arbol,\n",
        "                           feature_names=Nombres_Caract_In)\n",
        "\n",
        "graph = graph_from_dot_data(dot_data_1)\n",
        "graph.write_png('Tree_All_features.png')\n",
        "\n",
        "from google.colab import files\n",
        "\n",
        "files.download('Tree_All_features.png')"
      ]
    },
    {
      "cell_type": "markdown",
      "metadata": {
        "id": "CDFfFv0M3Q40"
      },
      "source": [
        "# Percepton multicapa"
      ]
    },
    {
      "cell_type": "code",
      "execution_count": 35,
      "metadata": {
        "id": "WzPbDIQB3Q40"
      },
      "outputs": [],
      "source": [
        "from sklearn.neural_network import MLPRegressor"
      ]
    },
    {
      "cell_type": "code",
      "execution_count": null,
      "metadata": {
        "id": "tRO1xdly3Q40"
      },
      "outputs": [],
      "source": [
        "# Configuración del MLP\n",
        "#def warn(*args, **kwargs):\n",
        "#    pass\n",
        "#import warnings\n",
        "#warnings.warn = warn\n",
        "\n",
        "param_grid = {'hidden_layer_sizes': range(2,52,4)}\n",
        "neuronas_ocultas_grid = np.array(range(2,52,4))\n",
        "\n",
        "grid_MLP = GridSearchCV(MLPRegressor(max_iter = 100, random_state=0, activation='tanh'), param_grid = param_grid, scoring = 'neg_mean_squared_error', cv=3, return_train_score=True)\n",
        "grid_MLP.fit(X_train_norm, Y_train)\n",
        "\n",
        "\n",
        "mse_MLP_train = -1*np.array(grid_MLP.cv_results_['mean_train_score'])\n",
        "mse_MLP_val = -1*np.array(grid_MLP.cv_results_['mean_test_score'])\n",
        "\n",
        "\n",
        "plt.plot(neuronas_ocultas_grid,mse_MLP_train,'-o',label=\"train\", linewidth=2)\n",
        "plt.plot(neuronas_ocultas_grid,mse_MLP_val,'-*b',label=\"val\", linewidth=2)\n",
        "plt.xlabel('Número de neuronas ocultas',fontsize=14)\n",
        "plt.ylabel('MSE',fontsize=14)\n",
        "plt.legend()\n",
        "plt.show()\n",
        "\n",
        "print(\"Menor MSE en validación: {:.3f}\".format(-grid_MLP.best_score_))\n",
        "print(\"Mejor valor del hiperparámetro: {}\".format(grid_MLP.best_params_))"
      ]
    },
    {
      "cell_type": "code",
      "execution_count": 38,
      "metadata": {
        "colab": {
          "base_uri": "https://localhost:8080/"
        },
        "id": "WF6Bq1ZB3Q41",
        "outputId": "b6ce7f34-f081-4c7c-d1d3-0c4e86d1011c"
      },
      "outputs": [
        {
          "output_type": "stream",
          "name": "stdout",
          "text": [
            "Error máximo MLP: 94.29125570491307\n",
            "Raíz del error cuadrático medio MLP: 11.88363484810195\n",
            "Error absoluto medio MLP: 8.22420666490289\n",
            "Error cuadrático medio MLP: 141.22077720302306\n"
          ]
        },
        {
          "output_type": "stream",
          "name": "stderr",
          "text": [
            "/usr/local/lib/python3.7/dist-packages/sklearn/neural_network/_multilayer_perceptron.py:696: ConvergenceWarning: Stochastic Optimizer: Maximum iterations (100) reached and the optimization hasn't converged yet.\n",
            "  ConvergenceWarning,\n"
          ]
        }
      ],
      "source": [
        "# Modelo con función de activación Tanh\n",
        "\n",
        "clf = MLPRegressor(hidden_layer_sizes=(72,1),activation='tanh',random_state=1, max_iter=100).fit(X_train_norm, Y_train)\n",
        "y_predict = clf.predict(X_test_norm)\n",
        "\n",
        "\n",
        "MAX_test_MLP = max_error(Y_test, y_predict)\n",
        "RMSE_test_MLP = np.sqrt(mean_squared_error(Y_test, y_predict))\n",
        "MSE_test_MLP = mean_squared_error(Y_test, y_predict)\n",
        "MAE_test_MLP = mean_absolute_error(Y_test, y_predict)\n",
        "\n",
        "print('Error máximo MLP:', MAX_test_MLP)\n",
        "print('Raíz del error cuadrático medio MLP:', RMSE_test_MLP)\n",
        "print('Error absoluto medio MLP:', MAE_test_MLP)\n",
        "print('Error cuadrático medio MLP:', MSE_test_MLP)"
      ]
    },
    {
      "cell_type": "code",
      "execution_count": 40,
      "metadata": {
        "colab": {
          "base_uri": "https://localhost:8080/"
        },
        "id": "ghWETd1z3Q41",
        "outputId": "936c957d-c86c-4bc0-87f1-cea09d2c4032"
      },
      "outputs": [
        {
          "output_type": "stream",
          "name": "stdout",
          "text": [
            "Error máximo MLP: 100.60376593128237\n",
            "Raíz del error cuadrático medio MLP: 16.877983782717884\n",
            "Error absoluto medio MLP: 12.737661879100253\n",
            "Error cuadrático medio MLP: 284.86633656968786\n"
          ]
        }
      ],
      "source": [
        "# Modelo con función de activación Relu\n",
        "\n",
        "clf = MLPRegressor(hidden_layer_sizes=(72,1),activation='relu',random_state=1, max_iter=100).fit(X_train_norm, Y_train)\n",
        "y_predict = clf.predict(X_test_norm)\n",
        "\n",
        "\n",
        "MAX_test_MLP = max_error(Y_test, y_predict)\n",
        "RMSE_test_MLP = np.sqrt(mean_squared_error(Y_test, y_predict))\n",
        "MSE_test_MLP = mean_squared_error(Y_test, y_predict)\n",
        "MAE_test_MLP = mean_absolute_error(Y_test, y_predict)\n",
        "\n",
        "print('Error máximo MLP:', MAX_test_MLP)\n",
        "print('Raíz del error cuadrático medio MLP:', RMSE_test_MLP)\n",
        "print('Error absoluto medio MLP:', MAE_test_MLP)\n",
        "print('Error cuadrático medio MLP:', MSE_test_MLP)"
      ]
    },
    {
      "cell_type": "markdown",
      "source": [
        "# Clustering"
      ],
      "metadata": {
        "id": "HAmDeTbQMOX_"
      }
    },
    {
      "cell_type": "code",
      "source": [
        "from sklearn.cluster import KMeans\n",
        "from sklearn import preprocessing\n",
        "import sklearn.cluster as cluster\n",
        "import sklearn.metrics as metrics\n",
        "import pandas as pd\n",
        "from sklearn.preprocessing import MinMaxScaler\n",
        "import seaborn as sns\n",
        "from matplotlib import pyplot as plt\n",
        "%matplotlib inline"
      ],
      "metadata": {
        "id": "xnHmAjmbV_1q"
      },
      "execution_count": 56,
      "outputs": []
    },
    {
      "cell_type": "code",
      "source": [
        "scaler = MinMaxScaler()\n",
        "scale = scaler.fit_transform(df1[['offset','accuracy','flow','speed',]])\n",
        "df_scale = pd.DataFrame(scale, columns = ['offset','accuracy','flow','speed']);\n",
        "df_scale.head(5)"
      ],
      "metadata": {
        "colab": {
          "base_uri": "https://localhost:8080/",
          "height": 204
        },
        "id": "j8dZ9ZVzWCtR",
        "outputId": "81908d67-366a-47b4-e1bf-a6bd0faeab86"
      },
      "execution_count": 57,
      "outputs": [
        {
          "output_type": "execute_result",
          "data": {
            "text/plain": [
              "     offset  accuracy      flow     speed\n",
              "0  0.059972  1.000000  0.261364  0.333355\n",
              "1  0.098307  0.000000  0.156250  0.294276\n",
              "2  0.191204  1.000000  0.264205  0.153224\n",
              "3  0.078551  1.000000  0.198864  0.177434\n",
              "4  0.180856  0.940594  0.127841  0.181316"
            ],
            "text/html": [
              "\n",
              "  <div id=\"df-b4f82dd4-a761-4128-a3f8-1e810eecaf89\">\n",
              "    <div class=\"colab-df-container\">\n",
              "      <div>\n",
              "<style scoped>\n",
              "    .dataframe tbody tr th:only-of-type {\n",
              "        vertical-align: middle;\n",
              "    }\n",
              "\n",
              "    .dataframe tbody tr th {\n",
              "        vertical-align: top;\n",
              "    }\n",
              "\n",
              "    .dataframe thead th {\n",
              "        text-align: right;\n",
              "    }\n",
              "</style>\n",
              "<table border=\"1\" class=\"dataframe\">\n",
              "  <thead>\n",
              "    <tr style=\"text-align: right;\">\n",
              "      <th></th>\n",
              "      <th>offset</th>\n",
              "      <th>accuracy</th>\n",
              "      <th>flow</th>\n",
              "      <th>speed</th>\n",
              "    </tr>\n",
              "  </thead>\n",
              "  <tbody>\n",
              "    <tr>\n",
              "      <th>0</th>\n",
              "      <td>0.059972</td>\n",
              "      <td>1.000000</td>\n",
              "      <td>0.261364</td>\n",
              "      <td>0.333355</td>\n",
              "    </tr>\n",
              "    <tr>\n",
              "      <th>1</th>\n",
              "      <td>0.098307</td>\n",
              "      <td>0.000000</td>\n",
              "      <td>0.156250</td>\n",
              "      <td>0.294276</td>\n",
              "    </tr>\n",
              "    <tr>\n",
              "      <th>2</th>\n",
              "      <td>0.191204</td>\n",
              "      <td>1.000000</td>\n",
              "      <td>0.264205</td>\n",
              "      <td>0.153224</td>\n",
              "    </tr>\n",
              "    <tr>\n",
              "      <th>3</th>\n",
              "      <td>0.078551</td>\n",
              "      <td>1.000000</td>\n",
              "      <td>0.198864</td>\n",
              "      <td>0.177434</td>\n",
              "    </tr>\n",
              "    <tr>\n",
              "      <th>4</th>\n",
              "      <td>0.180856</td>\n",
              "      <td>0.940594</td>\n",
              "      <td>0.127841</td>\n",
              "      <td>0.181316</td>\n",
              "    </tr>\n",
              "  </tbody>\n",
              "</table>\n",
              "</div>\n",
              "      <button class=\"colab-df-convert\" onclick=\"convertToInteractive('df-b4f82dd4-a761-4128-a3f8-1e810eecaf89')\"\n",
              "              title=\"Convert this dataframe to an interactive table.\"\n",
              "              style=\"display:none;\">\n",
              "        \n",
              "  <svg xmlns=\"http://www.w3.org/2000/svg\" height=\"24px\"viewBox=\"0 0 24 24\"\n",
              "       width=\"24px\">\n",
              "    <path d=\"M0 0h24v24H0V0z\" fill=\"none\"/>\n",
              "    <path d=\"M18.56 5.44l.94 2.06.94-2.06 2.06-.94-2.06-.94-.94-2.06-.94 2.06-2.06.94zm-11 1L8.5 8.5l.94-2.06 2.06-.94-2.06-.94L8.5 2.5l-.94 2.06-2.06.94zm10 10l.94 2.06.94-2.06 2.06-.94-2.06-.94-.94-2.06-.94 2.06-2.06.94z\"/><path d=\"M17.41 7.96l-1.37-1.37c-.4-.4-.92-.59-1.43-.59-.52 0-1.04.2-1.43.59L10.3 9.45l-7.72 7.72c-.78.78-.78 2.05 0 2.83L4 21.41c.39.39.9.59 1.41.59.51 0 1.02-.2 1.41-.59l7.78-7.78 2.81-2.81c.8-.78.8-2.07 0-2.86zM5.41 20L4 18.59l7.72-7.72 1.47 1.35L5.41 20z\"/>\n",
              "  </svg>\n",
              "      </button>\n",
              "      \n",
              "  <style>\n",
              "    .colab-df-container {\n",
              "      display:flex;\n",
              "      flex-wrap:wrap;\n",
              "      gap: 12px;\n",
              "    }\n",
              "\n",
              "    .colab-df-convert {\n",
              "      background-color: #E8F0FE;\n",
              "      border: none;\n",
              "      border-radius: 50%;\n",
              "      cursor: pointer;\n",
              "      display: none;\n",
              "      fill: #1967D2;\n",
              "      height: 32px;\n",
              "      padding: 0 0 0 0;\n",
              "      width: 32px;\n",
              "    }\n",
              "\n",
              "    .colab-df-convert:hover {\n",
              "      background-color: #E2EBFA;\n",
              "      box-shadow: 0px 1px 2px rgba(60, 64, 67, 0.3), 0px 1px 3px 1px rgba(60, 64, 67, 0.15);\n",
              "      fill: #174EA6;\n",
              "    }\n",
              "\n",
              "    [theme=dark] .colab-df-convert {\n",
              "      background-color: #3B4455;\n",
              "      fill: #D2E3FC;\n",
              "    }\n",
              "\n",
              "    [theme=dark] .colab-df-convert:hover {\n",
              "      background-color: #434B5C;\n",
              "      box-shadow: 0px 1px 3px 1px rgba(0, 0, 0, 0.15);\n",
              "      filter: drop-shadow(0px 1px 2px rgba(0, 0, 0, 0.3));\n",
              "      fill: #FFFFFF;\n",
              "    }\n",
              "  </style>\n",
              "\n",
              "      <script>\n",
              "        const buttonEl =\n",
              "          document.querySelector('#df-b4f82dd4-a761-4128-a3f8-1e810eecaf89 button.colab-df-convert');\n",
              "        buttonEl.style.display =\n",
              "          google.colab.kernel.accessAllowed ? 'block' : 'none';\n",
              "\n",
              "        async function convertToInteractive(key) {\n",
              "          const element = document.querySelector('#df-b4f82dd4-a761-4128-a3f8-1e810eecaf89');\n",
              "          const dataTable =\n",
              "            await google.colab.kernel.invokeFunction('convertToInteractive',\n",
              "                                                     [key], {});\n",
              "          if (!dataTable) return;\n",
              "\n",
              "          const docLinkHtml = 'Like what you see? Visit the ' +\n",
              "            '<a target=\"_blank\" href=https://colab.research.google.com/notebooks/data_table.ipynb>data table notebook</a>'\n",
              "            + ' to learn more about interactive tables.';\n",
              "          element.innerHTML = '';\n",
              "          dataTable['output_type'] = 'display_data';\n",
              "          await google.colab.output.renderOutput(dataTable, element);\n",
              "          const docLink = document.createElement('div');\n",
              "          docLink.innerHTML = docLinkHtml;\n",
              "          element.appendChild(docLink);\n",
              "        }\n",
              "      </script>\n",
              "    </div>\n",
              "  </div>\n",
              "  "
            ]
          },
          "metadata": {},
          "execution_count": 57
        }
      ]
    },
    {
      "cell_type": "code",
      "source": [
        "K=range(2,12)\n",
        "wss = []\n",
        "\n",
        "for k in K:\n",
        "    kmeans=cluster.KMeans(n_clusters=k)\n",
        "    kmeans=kmeans.fit(df_scale)\n",
        "    wss_iter = kmeans.inertia_\n",
        "    wss.append(wss_iter)"
      ],
      "metadata": {
        "id": "GojJnP15WQmG"
      },
      "execution_count": 58,
      "outputs": []
    },
    {
      "cell_type": "code",
      "source": [
        "plt.xlabel('K')\n",
        "plt.ylabel('Within-Cluster-Sum of Squared Errors (WSS)')\n",
        "plt.plot(K,wss)"
      ],
      "metadata": {
        "colab": {
          "base_uri": "https://localhost:8080/",
          "height": 297
        },
        "id": "i4qOK5JxWSR8",
        "outputId": "7cb78e0c-668a-4295-c13a-29f11a90bbc8"
      },
      "execution_count": 59,
      "outputs": [
        {
          "output_type": "execute_result",
          "data": {
            "text/plain": [
              "[<matplotlib.lines.Line2D at 0x7f0ddc84aa50>]"
            ]
          },
          "metadata": {},
          "execution_count": 59
        },
        {
          "output_type": "display_data",
          "data": {
            "text/plain": [
              "<Figure size 432x288 with 1 Axes>"
            ],
            "image/png": "[encoded data removed]"
          },
          "metadata": {
            "needs_background": "light"
          }
        }
      ]
    },
    {
      "cell_type": "code",
      "source": [
        "import sklearn.cluster as cluster\n",
        "import sklearn.metrics as metrics\n",
        "for i in range(2,13):\n",
        "  labels=cluster.KMeans(n_clusters=i,random_state=200).fit(df_scale).labels_\n",
        "  print (\"Silhouette score for k(clusters) = \"+str(i)+\" is \"\n",
        "  +str(metrics.silhouette_score(df_scale,labels,metric=\"euclidean\",sample_size=1000,random_state=200))) "
      ],
      "metadata": {
        "colab": {
          "base_uri": "https://localhost:8080/"
        },
        "id": "h_Nkun4pWU43",
        "outputId": "3c7914b3-2ec3-4b7d-e38e-3d5d191b4802"
      },
      "execution_count": 60,
      "outputs": [
        {
          "output_type": "stream",
          "name": "stdout",
          "text": [
            "Silhouette score for k(clusters) = 2 is 0.7512100764182477\n",
            "Silhouette score for k(clusters) = 3 is 0.7052776521691546\n",
            "Silhouette score for k(clusters) = 4 is 0.5655859134748816\n",
            "Silhouette score for k(clusters) = 5 is 0.48930133200717696\n",
            "Silhouette score for k(clusters) = 6 is 0.4650303705173257\n",
            "Silhouette score for k(clusters) = 7 is 0.42463938971687376\n",
            "Silhouette score for k(clusters) = 8 is 0.44204748731421967\n",
            "Silhouette score for k(clusters) = 9 is 0.39997935996140505\n",
            "Silhouette score for k(clusters) = 10 is 0.4058153783343465\n",
            "Silhouette score for k(clusters) = 11 is 0.4323301982227196\n",
            "Silhouette score for k(clusters) = 12 is 0.4196289806602531\n"
          ]
        }
      ]
    },
    {
      "cell_type": "code",
      "source": [
        "# We will use 2 Variables for this example\n",
        "kmeans = cluster.KMeans(n_clusters=2 ,init=\"k-means++\")\n",
        "kmeans = kmeans.fit(df_scale[['offset','accuracy','flow','speed',]])"
      ],
      "metadata": {
        "id": "JEIU7x5kWaQR"
      },
      "execution_count": 62,
      "outputs": []
    },
    {
      "cell_type": "code",
      "source": [
        "km=KMeans(n_clusters=2)\n",
        "y_predicted = km.fit_predict(df_scale[['offset','accuracy','flow','speed']])\n",
        "y_predicted"
      ],
      "metadata": {
        "colab": {
          "base_uri": "https://localhost:8080/"
        },
        "id": "Qlmc-wokWby8",
        "outputId": "fa87a1ae-05b5-4724-bdad-62779b057d95"
      },
      "execution_count": 61,
      "outputs": [
        {
          "output_type": "execute_result",
          "data": {
            "text/plain": [
              "array([0, 1, 0, ..., 0, 0, 0], dtype=int32)"
            ]
          },
          "metadata": {},
          "execution_count": 61
        }
      ]
    },
    {
      "cell_type": "code",
      "source": [
        "km.cluster_centers_"
      ],
      "metadata": {
        "colab": {
          "base_uri": "https://localhost:8080/"
        },
        "id": "59lKkzUIWdXS",
        "outputId": "60d9ae3b-986a-4fc8-dc5a-54d7782828bc"
      },
      "execution_count": 63,
      "outputs": [
        {
          "output_type": "execute_result",
          "data": {
            "text/plain": [
              "array([[0.10816189, 0.96318165, 0.10593777, 0.19370883],\n",
              "       [0.08625392, 0.01493767, 0.02410792, 0.06092937]])"
            ]
          },
          "metadata": {},
          "execution_count": 63
        }
      ]
    },
    {
      "cell_type": "code",
      "source": [
        "df_scale['Clusters'] = km.labels_\n",
        "sns.scatterplot(x=\"accuracy\", y=\"flow\",hue = 'Clusters',  data=df_scale,palette='viridis')"
      ],
      "metadata": {
        "colab": {
          "base_uri": "https://localhost:8080/",
          "height": 367
        },
        "id": "0s_dVjwWWhTE",
        "outputId": "e107f23e-5652-4904-cf3e-c22960d33cce"
      },
      "execution_count": 64,
      "outputs": [
        {
          "output_type": "execute_result",
          "data": {
            "text/plain": [
              "<matplotlib.axes._subplots.AxesSubplot at 0x7f0ddc91d3d0>"
            ]
          },
          "metadata": {},
          "execution_count": 64
        },
        {
          "output_type": "stream",
          "name": "stderr",
          "text": [
            "/usr/local/lib/python3.7/dist-packages/google/colab/_event_manager.py:28: UserWarning: Creating legend with loc=\"best\" can be slow with large amounts of data.\n",
            "  func(*args, **kwargs)\n",
            "/usr/local/lib/python3.7/dist-packages/IPython/core/pylabtools.py:125: UserWarning: Creating legend with loc=\"best\" can be slow with large amounts of data.\n",
            "  fig.canvas.print_figure(bytes_io, **kw)\n"
          ]
        },
        {
          "output_type": "display_data",
          "data": {
            "text/plain": [
              "<Figure size 432x288 with 1 Axes>"
            ],
            "image/png": "[encoded data removed]"
          },
          "metadata": {
            "needs_background": "light"
          }
        }
      ]
    }
  ],
  "metadata": {
    "kernelspec": {
      "display_name": "Python 3",
      "language": "python",
      "name": "python3"
    },
    "language_info": {
      "codemirror_mode": {
        "name": "ipython",
        "version": 3
      },
      "file_extension": ".py",
      "mimetype": "text/x-python",
      "name": "python",
      "nbconvert_exporter": "python",
      "pygments_lexer": "ipython3",
      "version": "3.7.9"
    },
    "colab": {
      "name": "proyecto.ipynb",
      "provenance": []
    }
  },
  "nbformat": 4,
  "nbformat_minor": 0
}